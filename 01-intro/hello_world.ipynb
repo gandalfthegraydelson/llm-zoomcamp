{
 "cells": [
  {
   "cell_type": "code",
   "execution_count": 1,
   "id": "6f12cc9f-217a-4e73-a3d8-55a7bf88fa26",
   "metadata": {},
   "outputs": [],
   "source": [
    "import openai"
   ]
  },
  {
   "cell_type": "code",
   "execution_count": 2,
   "id": "a846ecaf-7a8b-42d0-b724-d92c8ae6737c",
   "metadata": {},
   "outputs": [],
   "source": [
    "from openai import OpenAI"
   ]
  },
  {
   "cell_type": "code",
   "execution_count": 3,
   "id": "8149bdce-ccec-45b1-8b55-145f2945aecf",
   "metadata": {},
   "outputs": [],
   "source": [
    "client = OpenAI()"
   ]
  },
  {
   "cell_type": "code",
   "execution_count": 9,
   "id": "8d54b32e-4c0d-4e9c-baa1-8f4045a74f6a",
   "metadata": {},
   "outputs": [],
   "source": [
    "response = client.chat.completions.create(\n",
    "    model='gpt-4o',\n",
    "    messages=[{\"role\": \"user\", \"content\": \"is it too late to join the course?\"}]\n",
    ")"
   ]
  },
  {
   "cell_type": "code",
   "execution_count": 13,
   "id": "5a724aaf-0ed2-44aa-9c0d-3ace728482d8",
   "metadata": {},
   "outputs": [
    {
     "data": {
      "text/plain": [
       "\"It's hard to say without knowing more details about the specific course you're interested in. Here are a few general steps you can take to find out if it's too late to join:\\n\\n1. **Check the Course Website:** Course websites often have enrollment deadlines and details about late registration policies.\\n  \\n2. **Contact the Instructor or Department:** If the information isn't clear online, you can directly contact the instructor or the department offering the course. They can provide the most accurate information.\\n\\n3. **University/School Registration Office:** Many institutions have a registration office that can provide details on enrollment periods and any possible late registration options.\\n\\n4. **Online Platforms:** If the course is offered online (e.g., through platforms like Coursera, edX, Udemy, etc.), check the platform for specific enrollment dates and deadlines.\\n\\n5. **Waitlists:** Even if the course has officially started, some institutions have waitlists or allow late additions under certain circumstances.\\n\\nWould you like more specific advice? If you provide details about the course and the institution or platform, I might be able to offer more targeted guidance.\""
      ]
     },
     "execution_count": 13,
     "metadata": {},
     "output_type": "execute_result"
    }
   ],
   "source": [
    "response.choices[0].message.content"
   ]
  },
  {
   "cell_type": "code",
   "execution_count": null,
   "id": "8e19d219-b7c8-4d11-8607-95de1a5fac63",
   "metadata": {},
   "outputs": [],
   "source": []
  }
 ],
 "metadata": {
  "kernelspec": {
   "display_name": "Python 3 (ipykernel)",
   "language": "python",
   "name": "python3"
  },
  "language_info": {
   "codemirror_mode": {
    "name": "ipython",
    "version": 3
   },
   "file_extension": ".py",
   "mimetype": "text/x-python",
   "name": "python",
   "nbconvert_exporter": "python",
   "pygments_lexer": "ipython3",
   "version": "3.10.13"
  }
 },
 "nbformat": 4,
 "nbformat_minor": 5
}
